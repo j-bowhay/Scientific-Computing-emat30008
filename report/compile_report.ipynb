{
 "cells": [
  {
   "cell_type": "code",
   "execution_count": 8,
   "id": "84e92781",
   "metadata": {},
   "outputs": [
    {
     "name": "stderr",
     "output_type": "stream",
     "text": [
      "[NbConvertApp] Converting notebook report.ipynb to latex\n",
      "Traceback (most recent call last):\n",
      "  File \"/home/jakeb/development/scicomp/venv/bin/jupyter-nbconvert\", line 8, in <module>\n",
      "    sys.exit(main())\n",
      "  File \"/home/jakeb/development/scicomp/venv/lib/python3.10/site-packages/jupyter_core/application.py\", line 277, in launch_instance\n",
      "    return super().launch_instance(argv=argv, **kwargs)\n",
      "  File \"/home/jakeb/development/scicomp/venv/lib/python3.10/site-packages/traitlets/config/application.py\", line 1043, in launch_instance\n",
      "    app.start()\n",
      "  File \"/home/jakeb/development/scicomp/venv/lib/python3.10/site-packages/nbconvert/nbconvertapp.py\", line 414, in start\n",
      "    self.convert_notebooks()\n",
      "  File \"/home/jakeb/development/scicomp/venv/lib/python3.10/site-packages/nbconvert/nbconvertapp.py\", line 591, in convert_notebooks\n",
      "    self.convert_single_notebook(notebook_filename)\n",
      "  File \"/home/jakeb/development/scicomp/venv/lib/python3.10/site-packages/nbconvert/nbconvertapp.py\", line 553, in convert_single_notebook\n",
      "    output, resources = self.export_single_notebook(\n",
      "  File \"/home/jakeb/development/scicomp/venv/lib/python3.10/site-packages/nbconvert/nbconvertapp.py\", line 479, in export_single_notebook\n",
      "    output, resources = self.exporter.from_filename(\n",
      "  File \"/home/jakeb/development/scicomp/venv/lib/python3.10/site-packages/nbconvert/exporters/templateexporter.py\", line 383, in from_filename\n",
      "    return super().from_filename(filename, resources, **kw)  # type:ignore\n",
      "  File \"/home/jakeb/development/scicomp/venv/lib/python3.10/site-packages/nbconvert/exporters/exporter.py\", line 200, in from_filename\n",
      "    return self.from_file(f, resources=resources, **kw)\n",
      "  File \"/home/jakeb/development/scicomp/venv/lib/python3.10/site-packages/nbconvert/exporters/templateexporter.py\", line 389, in from_file\n",
      "    return super().from_file(file_stream, resources, **kw)  # type:ignore\n",
      "  File \"/home/jakeb/development/scicomp/venv/lib/python3.10/site-packages/nbconvert/exporters/exporter.py\", line 219, in from_file\n",
      "    return self.from_notebook_node(\n",
      "  File \"/home/jakeb/development/scicomp/venv/lib/python3.10/site-packages/nbconvert/exporters/latex.py\", line 76, in from_notebook_node\n",
      "    return super().from_notebook_node(nb, resources, **kw)\n",
      "  File \"/home/jakeb/development/scicomp/venv/lib/python3.10/site-packages/nbconvert/exporters/templateexporter.py\", line 421, in from_notebook_node\n",
      "    output = self.template.render(nb=nb_copy, resources=resources)\n",
      "  File \"/home/jakeb/development/scicomp/venv/lib/python3.10/site-packages/nbconvert/exporters/templateexporter.py\", line 163, in template\n",
      "    self._template_cached = self._load_template()\n",
      "  File \"/home/jakeb/development/scicomp/venv/lib/python3.10/site-packages/nbconvert/exporters/templateexporter.py\", line 377, in _load_template\n",
      "    return self.environment.get_template(template_file)\n",
      "  File \"/home/jakeb/development/scicomp/venv/lib/python3.10/site-packages/jinja2/environment.py\", line 1010, in get_template\n",
      "    return self._load_template(name, globals)\n",
      "  File \"/home/jakeb/development/scicomp/venv/lib/python3.10/site-packages/jinja2/environment.py\", line 969, in _load_template\n",
      "    template = self.loader.load(self, name, self.make_globals(globals))\n",
      "  File \"/home/jakeb/development/scicomp/venv/lib/python3.10/site-packages/jinja2/loaders.py\", line 575, in load\n",
      "    raise TemplateNotFound(name)\n",
      "jinja2.exceptions.TemplateNotFound: index.tex.j2\n"
     ]
    },
    {
     "name": "stdout",
     "output_type": "stream",
     "text": [
      "This is pdfTeX, Version 3.141592653-2.6-1.40.25 (TeX Live 2023/Arch Linux) (preloaded format=latex)\n",
      " restricted \\write18 enabled.\n",
      "entering extended mode\n",
      "! I can't find file `report.tex'.\n",
      "<*> report.tex\n",
      "              \n",
      "(Press Enter to retry, or Control-D to exit)\n",
      "Please type another input file name: ! I can't find file `bibtex'.\n",
      "<*> report.tex\n",
      "              \n",
      "(Press Enter to retry, or Control-D to exit)\n",
      "Please type another input file name: ! I can't find file `pdflatex'.\n",
      "<*> report.tex\n",
      "              \n",
      "(Press Enter to retry, or Control-D to exit)\n",
      "Please type another input file name: ! I can't find file `pdflatex'.\n",
      "<*> report.tex\n",
      "              \n",
      "(Press Enter to retry, or Control-D to exit)\n",
      "Please type another input file name: ! I can't find file `pdflatex'.\n",
      "<*> report.tex\n",
      "              \n",
      "(Press Enter to retry, or Control-D to exit)\n",
      "Please type another input file name: \n",
      "! Emergency stop.\n",
      "<*> \n",
      "    \n",
      "No pages of output.\n",
      "Transcript written on texput.log.\n"
     ]
    },
    {
     "ename": "CalledProcessError",
     "evalue": "Command 'b'jupyter nbconvert report.ipynb --to latex --template=/home/jakeb/development/scicomp/report/template.tplx\\nlatex report.tex\\nbibtex report.aux\\npdflatex report.tex\\npdflatex report.tex\\npdflatex report.tex\\n'' returned non-zero exit status 1.",
     "output_type": "error",
     "traceback": [
      "\u001b[0;31m---------------------------------------------------------------------------\u001b[0m",
      "\u001b[0;31mCalledProcessError\u001b[0m                        Traceback (most recent call last)",
      "Cell \u001b[0;32mIn[8], line 1\u001b[0m\n\u001b[0;32m----> 1\u001b[0m \u001b[43mget_ipython\u001b[49m\u001b[43m(\u001b[49m\u001b[43m)\u001b[49m\u001b[38;5;241;43m.\u001b[39;49m\u001b[43mrun_cell_magic\u001b[49m\u001b[43m(\u001b[49m\u001b[38;5;124;43m'\u001b[39;49m\u001b[38;5;124;43mbash\u001b[39;49m\u001b[38;5;124;43m'\u001b[39;49m\u001b[43m,\u001b[49m\u001b[43m \u001b[49m\u001b[38;5;124;43m'\u001b[39;49m\u001b[38;5;124;43m'\u001b[39;49m\u001b[43m,\u001b[49m\u001b[43m \u001b[49m\u001b[38;5;124;43m'\u001b[39;49m\u001b[38;5;124;43mjupyter nbconvert report.ipynb --to latex --template=/home/jakeb/development/scicomp/report/template.tplx\u001b[39;49m\u001b[38;5;130;43;01m\\n\u001b[39;49;00m\u001b[38;5;124;43mlatex report.tex\u001b[39;49m\u001b[38;5;130;43;01m\\n\u001b[39;49;00m\u001b[38;5;124;43mbibtex report.aux\u001b[39;49m\u001b[38;5;130;43;01m\\n\u001b[39;49;00m\u001b[38;5;124;43mpdflatex report.tex\u001b[39;49m\u001b[38;5;130;43;01m\\n\u001b[39;49;00m\u001b[38;5;124;43mpdflatex report.tex\u001b[39;49m\u001b[38;5;130;43;01m\\n\u001b[39;49;00m\u001b[38;5;124;43mpdflatex report.tex\u001b[39;49m\u001b[38;5;130;43;01m\\n\u001b[39;49;00m\u001b[38;5;124;43m'\u001b[39;49m\u001b[43m)\u001b[49m\n",
      "File \u001b[0;32m~/development/scicomp/venv/lib/python3.10/site-packages/IPython/core/interactiveshell.py:2430\u001b[0m, in \u001b[0;36mInteractiveShell.run_cell_magic\u001b[0;34m(self, magic_name, line, cell)\u001b[0m\n\u001b[1;32m   2428\u001b[0m \u001b[38;5;28;01mwith\u001b[39;00m \u001b[38;5;28mself\u001b[39m\u001b[38;5;241m.\u001b[39mbuiltin_trap:\n\u001b[1;32m   2429\u001b[0m     args \u001b[38;5;241m=\u001b[39m (magic_arg_s, cell)\n\u001b[0;32m-> 2430\u001b[0m     result \u001b[38;5;241m=\u001b[39m \u001b[43mfn\u001b[49m\u001b[43m(\u001b[49m\u001b[38;5;241;43m*\u001b[39;49m\u001b[43margs\u001b[49m\u001b[43m,\u001b[49m\u001b[43m \u001b[49m\u001b[38;5;241;43m*\u001b[39;49m\u001b[38;5;241;43m*\u001b[39;49m\u001b[43mkwargs\u001b[49m\u001b[43m)\u001b[49m\n\u001b[1;32m   2432\u001b[0m \u001b[38;5;66;03m# The code below prevents the output from being displayed\u001b[39;00m\n\u001b[1;32m   2433\u001b[0m \u001b[38;5;66;03m# when using magics with decodator @output_can_be_silenced\u001b[39;00m\n\u001b[1;32m   2434\u001b[0m \u001b[38;5;66;03m# when the last Python token in the expression is a ';'.\u001b[39;00m\n\u001b[1;32m   2435\u001b[0m \u001b[38;5;28;01mif\u001b[39;00m \u001b[38;5;28mgetattr\u001b[39m(fn, magic\u001b[38;5;241m.\u001b[39mMAGIC_OUTPUT_CAN_BE_SILENCED, \u001b[38;5;28;01mFalse\u001b[39;00m):\n",
      "File \u001b[0;32m~/development/scicomp/venv/lib/python3.10/site-packages/IPython/core/magics/script.py:153\u001b[0m, in \u001b[0;36mScriptMagics._make_script_magic.<locals>.named_script_magic\u001b[0;34m(line, cell)\u001b[0m\n\u001b[1;32m    151\u001b[0m \u001b[38;5;28;01melse\u001b[39;00m:\n\u001b[1;32m    152\u001b[0m     line \u001b[38;5;241m=\u001b[39m script\n\u001b[0;32m--> 153\u001b[0m \u001b[38;5;28;01mreturn\u001b[39;00m \u001b[38;5;28;43mself\u001b[39;49m\u001b[38;5;241;43m.\u001b[39;49m\u001b[43mshebang\u001b[49m\u001b[43m(\u001b[49m\u001b[43mline\u001b[49m\u001b[43m,\u001b[49m\u001b[43m \u001b[49m\u001b[43mcell\u001b[49m\u001b[43m)\u001b[49m\n",
      "File \u001b[0;32m~/development/scicomp/venv/lib/python3.10/site-packages/IPython/core/magics/script.py:305\u001b[0m, in \u001b[0;36mScriptMagics.shebang\u001b[0;34m(self, line, cell)\u001b[0m\n\u001b[1;32m    300\u001b[0m \u001b[38;5;28;01mif\u001b[39;00m args\u001b[38;5;241m.\u001b[39mraise_error \u001b[38;5;129;01mand\u001b[39;00m p\u001b[38;5;241m.\u001b[39mreturncode \u001b[38;5;241m!=\u001b[39m \u001b[38;5;241m0\u001b[39m:\n\u001b[1;32m    301\u001b[0m     \u001b[38;5;66;03m# If we get here and p.returncode is still None, we must have\u001b[39;00m\n\u001b[1;32m    302\u001b[0m     \u001b[38;5;66;03m# killed it but not yet seen its return code. We don't wait for it,\u001b[39;00m\n\u001b[1;32m    303\u001b[0m     \u001b[38;5;66;03m# in case it's stuck in uninterruptible sleep. -9 = SIGKILL\u001b[39;00m\n\u001b[1;32m    304\u001b[0m     rc \u001b[38;5;241m=\u001b[39m p\u001b[38;5;241m.\u001b[39mreturncode \u001b[38;5;129;01mor\u001b[39;00m \u001b[38;5;241m-\u001b[39m\u001b[38;5;241m9\u001b[39m\n\u001b[0;32m--> 305\u001b[0m     \u001b[38;5;28;01mraise\u001b[39;00m CalledProcessError(rc, cell)\n",
      "\u001b[0;31mCalledProcessError\u001b[0m: Command 'b'jupyter nbconvert report.ipynb --to latex --template=/home/jakeb/development/scicomp/report/template.tplx\\nlatex report.tex\\nbibtex report.aux\\npdflatex report.tex\\npdflatex report.tex\\npdflatex report.tex\\n'' returned non-zero exit status 1."
     ]
    }
   ],
   "source": [
    "%%bash\n",
    "jupyter nbconvert report.ipynb --to latex --template=/home/jakeb/development/scicomp/report/template.tplx\n",
    "latex report.tex\n",
    "bibtex report.aux\n",
    "pdflatex report.tex\n",
    "pdflatex report.tex\n",
    "pdflatex report.tex"
   ]
  },
  {
   "cell_type": "code",
   "execution_count": null,
   "id": "a7caf8f6",
   "metadata": {},
   "outputs": [],
   "source": []
  }
 ],
 "metadata": {
  "kernelspec": {
   "display_name": "Python 3 (ipykernel)",
   "language": "python",
   "name": "python3"
  },
  "language_info": {
   "codemirror_mode": {
    "name": "ipython",
    "version": 3
   },
   "file_extension": ".py",
   "mimetype": "text/x-python",
   "name": "python",
   "nbconvert_exporter": "python",
   "pygments_lexer": "ipython3",
   "version": "3.10.10"
  }
 },
 "nbformat": 4,
 "nbformat_minor": 5
}
