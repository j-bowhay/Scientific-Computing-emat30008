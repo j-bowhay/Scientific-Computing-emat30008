{
 "cells": [
  {
   "cell_type": "markdown",
   "metadata": {},
   "source": [
    "# EMAT30008: Scientific Computing\n",
    "Jake Bowhay: up19056@bristol.ac.uk\n",
    "\n",
    "## Introduction\n",
    "\n",
    "This report provides an overview for the Python package `scicomp` that I have produced for Scientfic Comouting unit. `scicomp` provides functionality for solving non-stiff ordinary differential equations (ODEs), solving selected partial differential equations (PDEs), finding periodic orbits in ODEs, and tracking steady state solutions and periodic orbits. The design decision taken in producing this package and a reflective learning log are also presented.\n",
    "\n",
    "## Demonstration\n",
    "\n",
    "## Design Decisions\n",
    "\n",
    "## Reflective Learning Log\n",
    "\n",
    "## Conclusion"
   ]
  },
  {
   "cell_type": "code",
   "execution_count": null,
   "metadata": {},
   "outputs": [],
   "source": []
  }
 ],
 "metadata": {
  "kernelspec": {
   "display_name": "Python 3 (ipykernel)",
   "language": "python",
   "name": "python3"
  },
  "language_info": {
   "codemirror_mode": {
    "name": "ipython",
    "version": 3
   },
   "file_extension": ".py",
   "mimetype": "text/x-python",
   "name": "python",
   "nbconvert_exporter": "python",
   "pygments_lexer": "ipython3",
   "version": "3.10.9"
  }
 },
 "nbformat": 4,
 "nbformat_minor": 2
}
